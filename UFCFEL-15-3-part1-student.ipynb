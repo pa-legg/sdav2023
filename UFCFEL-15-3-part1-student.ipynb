{
 "cells": [
  {
   "cell_type": "markdown",
   "metadata": {},
   "source": [
    "<img src=\"http://www.cems.uwe.ac.uk/~pa-legg/images/uwe_banner.png\">\n",
    "\n",
    "# UFCFEL Security Data Analytics and Visualisation (2023)\n",
    "\n",
    "## Portfolio Assignment: Part 1\n",
    "## Conduct a security investigation of an organisation's web server application\n",
    "---\n",
    "\n",
    "For this task, the company UWEtech have enlisted your support as a security data analyst. They believe that they have suffered an attack on their network, however they are unable to diagnose what has happened exactly. The company have provided you with an extract of their network traffic, for which you will use visualisation techniques to learn more about the underlying activity on their systems.\n",
    "\n",
    "**Dataset:** You will be issued a dataset for this task. Please access the datasets here.\n",
    "\n",
    "**This exercise carries a weight of 25% towards your overall portfolio submission**\n",
    "\n",
    "It is strongly encouraged that you use the online reference guides for [Matplotlib](https://matplotlib.org/) and [pandas](https://pandas.pydata.org/) - searching the API documentation will answer many of your questions.\n",
    "\n",
    "\n",
    "### Submission Documents\n",
    "---\n",
    "\n",
    "For Part 1 of your portfolio, your complete output file should be saved as:\n",
    "\n",
    "- **STUDENT_ID-PART1.ipynb**\n",
    "\n",
    "This should then be included in a ZIP file along with your other two portfolio documents.\n",
    "\n",
    "The deadline for your portfolio submission is **THURSDAY 11th JANUARY @ 14:00**. "
   ]
  },
  {
   "cell_type": "code",
   "execution_count": 2,
   "metadata": {},
   "outputs": [
    {
     "data": {
      "text/html": [
       "<div>\n",
       "<style scoped>\n",
       "    .dataframe tbody tr th:only-of-type {\n",
       "        vertical-align: middle;\n",
       "    }\n",
       "\n",
       "    .dataframe tbody tr th {\n",
       "        vertical-align: top;\n",
       "    }\n",
       "\n",
       "    .dataframe thead th {\n",
       "        text-align: right;\n",
       "    }\n",
       "</style>\n",
       "<table border=\"1\" class=\"dataframe\">\n",
       "  <thead>\n",
       "    <tr style=\"text-align: right;\">\n",
       "      <th></th>\n",
       "      <th>Time</th>\n",
       "      <th>Source</th>\n",
       "      <th>Destination</th>\n",
       "      <th>Protocol</th>\n",
       "      <th>Length</th>\n",
       "      <th>Info</th>\n",
       "    </tr>\n",
       "  </thead>\n",
       "  <tbody>\n",
       "    <tr>\n",
       "      <th>0</th>\n",
       "      <td>0.000000</td>\n",
       "      <td>10.20.0.165</td>\n",
       "      <td>209.85.143.19</td>\n",
       "      <td>TCP</td>\n",
       "      <td>62</td>\n",
       "      <td>1698  &gt;  443 [SYN] Seq=0 Win=65535 Len=0 MSS=1...</td>\n",
       "    </tr>\n",
       "    <tr>\n",
       "      <th>1</th>\n",
       "      <td>0.017691</td>\n",
       "      <td>209.85.143.19</td>\n",
       "      <td>10.20.0.165</td>\n",
       "      <td>TCP</td>\n",
       "      <td>62</td>\n",
       "      <td>443  &gt;  1698 [SYN, ACK] Seq=0 Ack=1 Win=5720 L...</td>\n",
       "    </tr>\n",
       "    <tr>\n",
       "      <th>2</th>\n",
       "      <td>0.017729</td>\n",
       "      <td>10.20.0.165</td>\n",
       "      <td>209.85.143.19</td>\n",
       "      <td>TCP</td>\n",
       "      <td>54</td>\n",
       "      <td>1698  &gt;  443 [ACK] Seq=1 Ack=1 Win=65535 Len=0</td>\n",
       "    </tr>\n",
       "    <tr>\n",
       "      <th>3</th>\n",
       "      <td>0.018382</td>\n",
       "      <td>10.20.0.165</td>\n",
       "      <td>209.85.143.19</td>\n",
       "      <td>SSLv3</td>\n",
       "      <td>156</td>\n",
       "      <td>Client Hello</td>\n",
       "    </tr>\n",
       "    <tr>\n",
       "      <th>4</th>\n",
       "      <td>0.032859</td>\n",
       "      <td>209.85.143.19</td>\n",
       "      <td>10.20.0.165</td>\n",
       "      <td>TCP</td>\n",
       "      <td>60</td>\n",
       "      <td>443  &gt;  1698 [ACK] Seq=1 Ack=103 Win=5720 Len=0</td>\n",
       "    </tr>\n",
       "    <tr>\n",
       "      <th>...</th>\n",
       "      <td>...</td>\n",
       "      <td>...</td>\n",
       "      <td>...</td>\n",
       "      <td>...</td>\n",
       "      <td>...</td>\n",
       "      <td>...</td>\n",
       "    </tr>\n",
       "    <tr>\n",
       "      <th>9380</th>\n",
       "      <td>833.452154</td>\n",
       "      <td>10.20.0.165</td>\n",
       "      <td>10.20.0.130</td>\n",
       "      <td>SMB</td>\n",
       "      <td>180</td>\n",
       "      <td>Tree Connect AndX Request, Path: \\\\\\\\WIN-JIDID...</td>\n",
       "    </tr>\n",
       "    <tr>\n",
       "      <th>9382</th>\n",
       "      <td>833.458302</td>\n",
       "      <td>10.20.0.165</td>\n",
       "      <td>10.20.0.130</td>\n",
       "      <td>SMB</td>\n",
       "      <td>130</td>\n",
       "      <td>Trans2 Request, GET_DFS_REFERRAL, File:</td>\n",
       "    </tr>\n",
       "    <tr>\n",
       "      <th>9384</th>\n",
       "      <td>833.557382</td>\n",
       "      <td>10.20.0.165</td>\n",
       "      <td>10.20.0.130</td>\n",
       "      <td>SMB</td>\n",
       "      <td>156</td>\n",
       "      <td>Trans2 Request, GET_DFS_REFERRAL, File: \\\\bhra...</td>\n",
       "    </tr>\n",
       "    <tr>\n",
       "      <th>9386</th>\n",
       "      <td>833.558091</td>\n",
       "      <td>10.20.0.165</td>\n",
       "      <td>10.20.0.130</td>\n",
       "      <td>SMB</td>\n",
       "      <td>148</td>\n",
       "      <td>Trans2 Request, GET_DFS_REFERRAL, File: \\\\BHRA...</td>\n",
       "    </tr>\n",
       "    <tr>\n",
       "      <th>9388</th>\n",
       "      <td>833.747957</td>\n",
       "      <td>10.20.0.165</td>\n",
       "      <td>10.20.0.130</td>\n",
       "      <td>TCP</td>\n",
       "      <td>54</td>\n",
       "      <td>1879  &gt;  445 [ACK] Seq=3520 Ack=1132 Win=64404...</td>\n",
       "    </tr>\n",
       "  </tbody>\n",
       "</table>\n",
       "<p>8932 rows × 6 columns</p>\n",
       "</div>"
      ],
      "text/plain": [
       "            Time         Source    Destination Protocol  Length  \\\n",
       "0       0.000000    10.20.0.165  209.85.143.19      TCP      62   \n",
       "1       0.017691  209.85.143.19    10.20.0.165      TCP      62   \n",
       "2       0.017729    10.20.0.165  209.85.143.19      TCP      54   \n",
       "3       0.018382    10.20.0.165  209.85.143.19    SSLv3     156   \n",
       "4       0.032859  209.85.143.19    10.20.0.165      TCP      60   \n",
       "...          ...            ...            ...      ...     ...   \n",
       "9380  833.452154    10.20.0.165    10.20.0.130      SMB     180   \n",
       "9382  833.458302    10.20.0.165    10.20.0.130      SMB     130   \n",
       "9384  833.557382    10.20.0.165    10.20.0.130      SMB     156   \n",
       "9386  833.558091    10.20.0.165    10.20.0.130      SMB     148   \n",
       "9388  833.747957    10.20.0.165    10.20.0.130      TCP      54   \n",
       "\n",
       "                                                   Info  \n",
       "0     1698  >  443 [SYN] Seq=0 Win=65535 Len=0 MSS=1...  \n",
       "1     443  >  1698 [SYN, ACK] Seq=0 Ack=1 Win=5720 L...  \n",
       "2        1698  >  443 [ACK] Seq=1 Ack=1 Win=65535 Len=0  \n",
       "3                                          Client Hello  \n",
       "4       443  >  1698 [ACK] Seq=1 Ack=103 Win=5720 Len=0  \n",
       "...                                                 ...  \n",
       "9380  Tree Connect AndX Request, Path: \\\\\\\\WIN-JIDID...  \n",
       "9382           Trans2 Request, GET_DFS_REFERRAL, File:   \n",
       "9384  Trans2 Request, GET_DFS_REFERRAL, File: \\\\bhra...  \n",
       "9386  Trans2 Request, GET_DFS_REFERRAL, File: \\\\BHRA...  \n",
       "9388  1879  >  445 [ACK] Seq=3520 Ack=1132 Win=64404...  \n",
       "\n",
       "[8932 rows x 6 columns]"
      ]
     },
     "execution_count": 2,
     "metadata": {},
     "output_type": "execute_result"
    }
   ],
   "source": [
    "### Load in the libraries and the data\n",
    "import pandas as pd\n",
    "import numpy as np\n",
    "import matplotlib.pyplot as plt\n",
    "import seaborn as sns\n",
    "import networkx as nx\n",
    "\n",
    "def load_csv_data():\n",
    "    data = pd.read_csv('./part1/packet-capture3.csv')\n",
    "    return data\n",
    "\n",
    "data = load_csv_data()\n",
    "data = data[ data['Source'].isin(data['Source'].value_counts().head(30).index) ] \n",
    "data = data.drop('No.', axis=1)\n",
    "data"
   ]
  },
  {
   "cell_type": "markdown",
   "metadata": {},
   "source": [
    "---\n"
   ]
  },
  {
   "cell_type": "markdown",
   "metadata": {},
   "source": [
    "### Question 1: Plot a Line Chart that shows \"Seconds\" on the x-axis, and \"Total Number of Packets\" sent on the y-axis. (4 marks)\n",
    "\n",
    "*Hint: The time is given in seconds with millisecond precision - think how you could aggregate this value to represent seconds only, then research a function that counts the value totals in your data.*"
   ]
  },
  {
   "cell_type": "code",
   "execution_count": 3,
   "metadata": {},
   "outputs": [
    {
     "data": {
      "text/plain": [
       "<Figure size 2000x1000 with 0 Axes>"
      ]
     },
     "metadata": {},
     "output_type": "display_data"
    }
   ],
   "source": [
    "# ANSWER\n",
    "plt.figure(figsize=(20,10))\n",
    "######### ADD YOUR CODE HERE ##########\n",
    "plt.show()"
   ]
  },
  {
   "cell_type": "markdown",
   "metadata": {},
   "source": [
    "### Question 2: Display a Bar Chart that shows \"Protocol\" on the x-axis, and \"Count\" on the y-axis. (2 marks)\n",
    "\n",
    "*Hint: Search the pandas documentation for creating a Bar Chart from a DataFrame column.*"
   ]
  },
  {
   "cell_type": "code",
   "execution_count": 4,
   "metadata": {},
   "outputs": [],
   "source": [
    "# ANSWER\n",
    "######### ADD YOUR CODE HERE ##########\n",
    "plt.show()"
   ]
  },
  {
   "cell_type": "markdown",
   "metadata": {},
   "source": [
    "### Question 3: Display a Scatter Chart that shows the association between Source and Destination data. (2 marks)\n",
    "*Hint: Matplotlib has a scatterplot function that takes x and y as inputs*"
   ]
  },
  {
   "cell_type": "code",
   "execution_count": 5,
   "metadata": {},
   "outputs": [
    {
     "data": {
      "image/png": "[encoded data removed]",
      "text/plain": [
       "<Figure size 2000x1000 with 1 Axes>"
      ]
     },
     "metadata": {},
     "output_type": "display_data"
    }
   ],
   "source": [
    "# ANSWER\n",
    "plt.figure(figsize=(20,10))\n",
    "plt.xticks(rotation=20)\n",
    "plt.yticks(rotation=20)\n",
    "######### ADD YOUR CODE HERE ##########\n",
    "plt.show()"
   ]
  },
  {
   "cell_type": "markdown",
   "metadata": {},
   "source": [
    "### Question 4: Display the data as a node link diagram using Source and Destination as your edges (4 marks)\n",
    "\n",
    "*Hint: Look at the NetworkX library: https://networkx.org/ and the online course notes.*"
   ]
  },
  {
   "cell_type": "code",
   "execution_count": 6,
   "metadata": {},
   "outputs": [],
   "source": [
    "# ANSWER\n",
    "######### ADD YOUR CODE HERE ##########"
   ]
  },
  {
   "cell_type": "markdown",
   "metadata": {},
   "source": [
    "### Question 5: For each Protocol type, create a new Column and assign whether the Protocol usage is True or False (3 marks)\n",
    "Hint: Get a list of unique protocol values, assign each value to be a new column where the Protocol column is equal to the Protocol name."
   ]
  },
  {
   "cell_type": "code",
   "execution_count": 7,
   "metadata": {},
   "outputs": [],
   "source": [
    "######### ADD YOUR CODE HERE ##########"
   ]
  },
  {
   "cell_type": "markdown",
   "metadata": {},
   "source": [
    "### Question 6: Show a Multi-Line Chart that shows the Total Packet Length Per Protocol. (5 marks)\n",
    "*Hint: Think about how you did this in Question 1 , and recall that plt.plot can be used to append to an existing plot.*"
   ]
  },
  {
   "cell_type": "code",
   "execution_count": 8,
   "metadata": {},
   "outputs": [],
   "source": [
    "# ANSWER\n",
    "######### ADD YOUR CODE HERE ##########"
   ]
  },
  {
   "cell_type": "markdown",
   "metadata": {},
   "source": [
    "### Question 7: Describe what you believe are the key findings of each plot, and what the stand-out features are for each. Give justification for your answer. (5 marks - no more than 200 words)."
   ]
  },
  {
   "cell_type": "code",
   "execution_count": null,
   "metadata": {},
   "outputs": [],
   "source": []
  }
 ],
 "metadata": {
  "kernelspec": {
   "display_name": "Python 3 (ipykernel)",
   "language": "python",
   "name": "python3"
  },
  "language_info": {
   "codemirror_mode": {
    "name": "ipython",
    "version": 3
   },
   "file_extension": ".py",
   "mimetype": "text/x-python",
   "name": "python",
   "nbconvert_exporter": "python",
   "pygments_lexer": "ipython3",
   "version": "3.9.13"
  },
  "widgets": {
   "application/vnd.jupyter.widget-state+json": {
    "state": {},
    "version_major": 2,
    "version_minor": 0
   }
  }
 },
 "nbformat": 4,
 "nbformat_minor": 4
}
